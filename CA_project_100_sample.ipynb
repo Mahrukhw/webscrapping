{
  "nbformat": 4,
  "nbformat_minor": 0,
  "metadata": {
    "colab": {
      "provenance": [],
      "authorship_tag": "ABX9TyNM2aZq2W5o41Bc9QRBa9bq",
      "include_colab_link": true
    },
    "kernelspec": {
      "name": "python3",
      "display_name": "Python 3"
    },
    "language_info": {
      "name": "python"
    }
  },
  "cells": [
    {
      "cell_type": "markdown",
      "metadata": {
        "id": "view-in-github",
        "colab_type": "text"
      },
      "source": [
        "<a href=\"https://colab.research.google.com/github/Mahrukhw/webscrapping/blob/main/CA_project_100_sample.ipynb\" target=\"_parent\"><img src=\"https://colab.research.google.com/assets/colab-badge.svg\" alt=\"Open In Colab\"/></a>"
      ]
    },
    {
      "cell_type": "code",
      "source": [
        "!pip install -q playwright pandas\n",
        "!playwright install"
      ],
      "metadata": {
        "colab": {
          "base_uri": "https://localhost:8080/"
        },
        "id": "iEPxCAj9uUGw",
        "outputId": "89f75492-db4d-41d0-c462-ce4c2887f778"
      },
      "execution_count": 5,
      "outputs": [
        {
          "output_type": "stream",
          "name": "stdout",
          "text": [
            "\u001b[2K   \u001b[90m━━━━━━━━━━━━━━━━━━━━━━━━━━━━━━━━━━━━━━━━\u001b[0m \u001b[32m45.8/45.8 MB\u001b[0m \u001b[31m16.1 MB/s\u001b[0m eta \u001b[36m0:00:00\u001b[0m\n",
            "\u001b[?25hDownloading Chromium 138.0.7204.23 (playwright build v1179)\u001b[2m from https://cdn.playwright.dev/dbazure/download/playwright/builds/chromium/1179/chromium-linux.zip\u001b[22m\n",
            "\u001b[1G171.6 MiB [] 0% 0.0s\u001b[0K\u001b[1G171.6 MiB [] 0% 7.2s\u001b[0K\u001b[1G171.6 MiB [] 0% 3.6s\u001b[0K\u001b[1G171.6 MiB [] 1% 3.3s\u001b[0K\u001b[1G171.6 MiB [] 2% 2.7s\u001b[0K\u001b[1G171.6 MiB [] 3% 2.2s\u001b[0K\u001b[1G171.6 MiB [] 4% 2.0s\u001b[0K\u001b[1G171.6 MiB [] 5% 2.1s\u001b[0K\u001b[1G171.6 MiB [] 6% 2.1s\u001b[0K\u001b[1G171.6 MiB [] 7% 2.1s\u001b[0K\u001b[1G171.6 MiB [] 8% 2.0s\u001b[0K\u001b[1G171.6 MiB [] 9% 1.9s\u001b[0K\u001b[1G171.6 MiB [] 10% 1.9s\u001b[0K\u001b[1G171.6 MiB [] 11% 1.9s\u001b[0K\u001b[1G171.6 MiB [] 12% 1.8s\u001b[0K\u001b[1G171.6 MiB [] 13% 1.7s\u001b[0K\u001b[1G171.6 MiB [] 14% 1.7s\u001b[0K\u001b[1G171.6 MiB [] 15% 1.6s\u001b[0K\u001b[1G171.6 MiB [] 17% 1.5s\u001b[0K\u001b[1G171.6 MiB [] 18% 1.4s\u001b[0K\u001b[1G171.6 MiB [] 20% 1.4s\u001b[0K\u001b[1G171.6 MiB [] 21% 1.3s\u001b[0K\u001b[1G171.6 MiB [] 22% 1.3s\u001b[0K\u001b[1G171.6 MiB [] 22% 1.4s\u001b[0K\u001b[1G171.6 MiB [] 24% 1.3s\u001b[0K\u001b[1G171.6 MiB [] 26% 1.2s\u001b[0K\u001b[1G171.6 MiB [] 28% 1.1s\u001b[0K\u001b[1G171.6 MiB [] 29% 1.1s\u001b[0K\u001b[1G171.6 MiB [] 31% 1.0s\u001b[0K\u001b[1G171.6 MiB [] 33% 1.0s\u001b[0K\u001b[1G171.6 MiB [] 34% 0.9s\u001b[0K\u001b[1G171.6 MiB [] 36% 0.9s\u001b[0K\u001b[1G171.6 MiB [] 37% 0.9s\u001b[0K\u001b[1G171.6 MiB [] 38% 0.9s\u001b[0K\u001b[1G171.6 MiB [] 40% 0.8s\u001b[0K\u001b[1G171.6 MiB [] 42% 0.8s\u001b[0K\u001b[1G171.6 MiB [] 44% 0.8s\u001b[0K\u001b[1G171.6 MiB [] 45% 0.7s\u001b[0K\u001b[1G171.6 MiB [] 47% 0.7s\u001b[0K\u001b[1G171.6 MiB [] 48% 0.7s\u001b[0K\u001b[1G171.6 MiB [] 50% 0.6s\u001b[0K\u001b[1G171.6 MiB [] 52% 0.6s\u001b[0K\u001b[1G171.6 MiB [] 54% 0.6s\u001b[0K\u001b[1G171.6 MiB [] 55% 0.6s\u001b[0K\u001b[1G171.6 MiB [] 58% 0.5s\u001b[0K\u001b[1G171.6 MiB [] 60% 0.5s\u001b[0K\u001b[1G171.6 MiB [] 61% 0.5s\u001b[0K\u001b[1G171.6 MiB [] 63% 0.4s\u001b[0K\u001b[1G171.6 MiB [] 65% 0.4s\u001b[0K\u001b[1G171.6 MiB [] 66% 0.4s\u001b[0K\u001b[1G171.6 MiB [] 67% 0.4s\u001b[0K\u001b[1G171.6 MiB [] 68% 0.4s\u001b[0K\u001b[1G171.6 MiB [] 69% 0.4s\u001b[0K\u001b[1G171.6 MiB [] 70% 0.4s\u001b[0K\u001b[1G171.6 MiB [] 71% 0.4s\u001b[0K\u001b[1G171.6 MiB [] 72% 0.3s\u001b[0K\u001b[1G171.6 MiB [] 73% 0.3s\u001b[0K\u001b[1G171.6 MiB [] 74% 0.3s\u001b[0K\u001b[1G171.6 MiB [] 76% 0.3s\u001b[0K\u001b[1G171.6 MiB [] 78% 0.3s\u001b[0K\u001b[1G171.6 MiB [] 80% 0.2s\u001b[0K\u001b[1G171.6 MiB [] 81% 0.2s\u001b[0K\u001b[1G171.6 MiB [] 83% 0.2s\u001b[0K\u001b[1G171.6 MiB [] 85% 0.2s\u001b[0K\u001b[1G171.6 MiB [] 87% 0.2s\u001b[0K\u001b[1G171.6 MiB [] 88% 0.1s\u001b[0K\u001b[1G171.6 MiB [] 90% 0.1s\u001b[0K\u001b[1G171.6 MiB [] 92% 0.1s\u001b[0K\u001b[1G171.6 MiB [] 93% 0.1s\u001b[0K\u001b[1G171.6 MiB [] 95% 0.1s\u001b[0K\u001b[1G171.6 MiB [] 97% 0.0s\u001b[0K\u001b[1G171.6 MiB [] 98% 0.0s\u001b[0K\u001b[1G171.6 MiB [] 99% 0.0s\u001b[0K\u001b[1G171.6 MiB [] 100% 0.0s\u001b[0K\n",
            "Chromium 138.0.7204.23 (playwright build v1179) downloaded to /root/.cache/ms-playwright/chromium-1179\n",
            "Downloading Chromium Headless Shell 138.0.7204.23 (playwright build v1179)\u001b[2m from https://cdn.playwright.dev/dbazure/download/playwright/builds/chromium/1179/chromium-headless-shell-linux.zip\u001b[22m\n",
            "\u001b[1G104.5 MiB [] 0% 0.0s\u001b[0K\u001b[1G104.5 MiB [] 0% 4.4s\u001b[0K\u001b[1G104.5 MiB [] 1% 2.1s\u001b[0K\u001b[1G104.5 MiB [] 3% 1.5s\u001b[0K\u001b[1G104.5 MiB [] 4% 1.3s\u001b[0K\u001b[1G104.5 MiB [] 6% 1.1s\u001b[0K\u001b[1G104.5 MiB [] 8% 1.0s\u001b[0K\u001b[1G104.5 MiB [] 8% 1.2s\u001b[0K\u001b[1G104.5 MiB [] 10% 1.1s\u001b[0K\u001b[1G104.5 MiB [] 11% 1.1s\u001b[0K\u001b[1G104.5 MiB [] 13% 1.0s\u001b[0K\u001b[1G104.5 MiB [] 15% 1.0s\u001b[0K\u001b[1G104.5 MiB [] 16% 1.0s\u001b[0K\u001b[1G104.5 MiB [] 18% 1.0s\u001b[0K\u001b[1G104.5 MiB [] 19% 0.9s\u001b[0K\u001b[1G104.5 MiB [] 22% 0.9s\u001b[0K\u001b[1G104.5 MiB [] 24% 0.8s\u001b[0K\u001b[1G104.5 MiB [] 27% 0.8s\u001b[0K\u001b[1G104.5 MiB [] 29% 0.7s\u001b[0K\u001b[1G104.5 MiB [] 30% 0.7s\u001b[0K\u001b[1G104.5 MiB [] 33% 0.7s\u001b[0K\u001b[1G104.5 MiB [] 35% 0.6s\u001b[0K\u001b[1G104.5 MiB [] 36% 0.6s\u001b[0K\u001b[1G104.5 MiB [] 38% 0.6s\u001b[0K\u001b[1G104.5 MiB [] 41% 0.6s\u001b[0K\u001b[1G104.5 MiB [] 44% 0.5s\u001b[0K\u001b[1G104.5 MiB [] 46% 0.5s\u001b[0K\u001b[1G104.5 MiB [] 49% 0.5s\u001b[0K\u001b[1G104.5 MiB [] 51% 0.4s\u001b[0K\u001b[1G104.5 MiB [] 53% 0.4s\u001b[0K\u001b[1G104.5 MiB [] 55% 0.4s\u001b[0K\u001b[1G104.5 MiB [] 58% 0.4s\u001b[0K\u001b[1G104.5 MiB [] 62% 0.3s\u001b[0K\u001b[1G104.5 MiB [] 65% 0.3s\u001b[0K\u001b[1G104.5 MiB [] 69% 0.3s\u001b[0K\u001b[1G104.5 MiB [] 71% 0.2s\u001b[0K\u001b[1G104.5 MiB [] 75% 0.2s\u001b[0K\u001b[1G104.5 MiB [] 78% 0.2s\u001b[0K\u001b[1G104.5 MiB [] 81% 0.1s\u001b[0K\u001b[1G104.5 MiB [] 84% 0.1s\u001b[0K\u001b[1G104.5 MiB [] 85% 0.1s\u001b[0K\u001b[1G104.5 MiB [] 87% 0.1s\u001b[0K\u001b[1G104.5 MiB [] 90% 0.1s\u001b[0K\u001b[1G104.5 MiB [] 92% 0.1s\u001b[0K\u001b[1G104.5 MiB [] 95% 0.0s\u001b[0K\u001b[1G104.5 MiB [] 97% 0.0s\u001b[0K\u001b[1G104.5 MiB [] 100% 0.0s\u001b[0K\n",
            "Chromium Headless Shell 138.0.7204.23 (playwright build v1179) downloaded to /root/.cache/ms-playwright/chromium_headless_shell-1179\n",
            "Downloading Firefox 139.0 (playwright build v1488)\u001b[2m from https://cdn.playwright.dev/dbazure/download/playwright/builds/firefox/1488/firefox-ubuntu-22.04.zip\u001b[22m\n",
            "\u001b[1G92.3 MiB [] 0% 0.0s\u001b[0K\u001b[1G92.3 MiB [] 0% 4.8s\u001b[0K\u001b[1G92.3 MiB [] 1% 2.1s\u001b[0K\u001b[1G92.3 MiB [] 3% 1.6s\u001b[0K\u001b[1G92.3 MiB [] 4% 1.5s\u001b[0K\u001b[1G92.3 MiB [] 5% 1.3s\u001b[0K\u001b[1G92.3 MiB [] 7% 1.2s\u001b[0K\u001b[1G92.3 MiB [] 9% 1.1s\u001b[0K\u001b[1G92.3 MiB [] 10% 1.3s\u001b[0K\u001b[1G92.3 MiB [] 11% 1.3s\u001b[0K\u001b[1G92.3 MiB [] 12% 1.3s\u001b[0K\u001b[1G92.3 MiB [] 14% 1.3s\u001b[0K\u001b[1G92.3 MiB [] 16% 1.2s\u001b[0K\u001b[1G92.3 MiB [] 17% 1.2s\u001b[0K\u001b[1G92.3 MiB [] 19% 1.1s\u001b[0K\u001b[1G92.3 MiB [] 20% 1.1s\u001b[0K\u001b[1G92.3 MiB [] 22% 1.1s\u001b[0K\u001b[1G92.3 MiB [] 23% 1.1s\u001b[0K\u001b[1G92.3 MiB [] 25% 1.0s\u001b[0K\u001b[1G92.3 MiB [] 27% 1.0s\u001b[0K\u001b[1G92.3 MiB [] 28% 0.9s\u001b[0K\u001b[1G92.3 MiB [] 30% 0.9s\u001b[0K\u001b[1G92.3 MiB [] 32% 0.9s\u001b[0K\u001b[1G92.3 MiB [] 33% 0.9s\u001b[0K\u001b[1G92.3 MiB [] 34% 0.8s\u001b[0K\u001b[1G92.3 MiB [] 36% 0.8s\u001b[0K\u001b[1G92.3 MiB [] 38% 0.8s\u001b[0K\u001b[1G92.3 MiB [] 40% 0.7s\u001b[0K\u001b[1G92.3 MiB [] 41% 0.7s\u001b[0K\u001b[1G92.3 MiB [] 42% 0.7s\u001b[0K\u001b[1G92.3 MiB [] 45% 0.7s\u001b[0K\u001b[1G92.3 MiB [] 47% 0.6s\u001b[0K\u001b[1G92.3 MiB [] 48% 0.6s\u001b[0K\u001b[1G92.3 MiB [] 51% 0.6s\u001b[0K\u001b[1G92.3 MiB [] 53% 0.5s\u001b[0K\u001b[1G92.3 MiB [] 54% 0.5s\u001b[0K\u001b[1G92.3 MiB [] 57% 0.5s\u001b[0K\u001b[1G92.3 MiB [] 59% 0.5s\u001b[0K\u001b[1G92.3 MiB [] 61% 0.4s\u001b[0K\u001b[1G92.3 MiB [] 62% 0.4s\u001b[0K\u001b[1G92.3 MiB [] 64% 0.4s\u001b[0K\u001b[1G92.3 MiB [] 67% 0.4s\u001b[0K\u001b[1G92.3 MiB [] 69% 0.3s\u001b[0K\u001b[1G92.3 MiB [] 71% 0.3s\u001b[0K\u001b[1G92.3 MiB [] 74% 0.3s\u001b[0K\u001b[1G92.3 MiB [] 76% 0.2s\u001b[0K\u001b[1G92.3 MiB [] 78% 0.2s\u001b[0K\u001b[1G92.3 MiB [] 80% 0.2s\u001b[0K\u001b[1G92.3 MiB [] 82% 0.2s\u001b[0K\u001b[1G92.3 MiB [] 83% 0.2s\u001b[0K\u001b[1G92.3 MiB [] 85% 0.1s\u001b[0K\u001b[1G92.3 MiB [] 87% 0.1s\u001b[0K\u001b[1G92.3 MiB [] 88% 0.1s\u001b[0K\u001b[1G92.3 MiB [] 89% 0.1s\u001b[0K\u001b[1G92.3 MiB [] 90% 0.1s\u001b[0K\u001b[1G92.3 MiB [] 91% 0.1s\u001b[0K\u001b[1G92.3 MiB [] 92% 0.1s\u001b[0K\u001b[1G92.3 MiB [] 94% 0.1s\u001b[0K\u001b[1G92.3 MiB [] 96% 0.0s\u001b[0K\u001b[1G92.3 MiB [] 98% 0.0s\u001b[0K\u001b[1G92.3 MiB [] 100% 0.0s\u001b[0K\n",
            "Firefox 139.0 (playwright build v1488) downloaded to /root/.cache/ms-playwright/firefox-1488\n",
            "Downloading Webkit 18.5 (playwright build v2182)\u001b[2m from https://cdn.playwright.dev/dbazure/download/playwright/builds/webkit/2182/webkit-ubuntu-22.04.zip\u001b[22m\n",
            "\u001b[1G93.7 MiB [] 0% 0.0s\u001b[0K\u001b[1G93.7 MiB [] 0% 9.5s\u001b[0K\u001b[1G93.7 MiB [] 1% 3.1s\u001b[0K\u001b[1G93.7 MiB [] 1% 2.5s\u001b[0K\u001b[1G93.7 MiB [] 2% 2.2s\u001b[0K\u001b[1G93.7 MiB [] 3% 2.1s\u001b[0K\u001b[1G93.7 MiB [] 4% 1.9s\u001b[0K\u001b[1G93.7 MiB [] 6% 1.7s\u001b[0K\u001b[1G93.7 MiB [] 7% 1.6s\u001b[0K\u001b[1G93.7 MiB [] 8% 1.6s\u001b[0K\u001b[1G93.7 MiB [] 9% 1.7s\u001b[0K\u001b[1G93.7 MiB [] 10% 1.7s\u001b[0K\u001b[1G93.7 MiB [] 11% 1.7s\u001b[0K\u001b[1G93.7 MiB [] 12% 1.7s\u001b[0K\u001b[1G93.7 MiB [] 13% 1.6s\u001b[0K\u001b[1G93.7 MiB [] 14% 1.6s\u001b[0K\u001b[1G93.7 MiB [] 15% 1.5s\u001b[0K\u001b[1G93.7 MiB [] 16% 1.5s\u001b[0K\u001b[1G93.7 MiB [] 17% 1.5s\u001b[0K\u001b[1G93.7 MiB [] 18% 1.5s\u001b[0K\u001b[1G93.7 MiB [] 19% 1.5s\u001b[0K\u001b[1G93.7 MiB [] 20% 1.4s\u001b[0K\u001b[1G93.7 MiB [] 21% 1.4s\u001b[0K\u001b[1G93.7 MiB [] 23% 1.3s\u001b[0K\u001b[1G93.7 MiB [] 24% 1.3s\u001b[0K\u001b[1G93.7 MiB [] 25% 1.3s\u001b[0K\u001b[1G93.7 MiB [] 26% 1.3s\u001b[0K\u001b[1G93.7 MiB [] 27% 1.3s\u001b[0K\u001b[1G93.7 MiB [] 28% 1.2s\u001b[0K\u001b[1G93.7 MiB [] 29% 1.2s\u001b[0K\u001b[1G93.7 MiB [] 30% 1.2s\u001b[0K\u001b[1G93.7 MiB [] 32% 1.1s\u001b[0K\u001b[1G93.7 MiB [] 34% 1.1s\u001b[0K\u001b[1G93.7 MiB [] 35% 1.0s\u001b[0K\u001b[1G93.7 MiB [] 36% 1.0s\u001b[0K\u001b[1G93.7 MiB [] 38% 1.0s\u001b[0K\u001b[1G93.7 MiB [] 39% 0.9s\u001b[0K\u001b[1G93.7 MiB [] 40% 0.9s\u001b[0K\u001b[1G93.7 MiB [] 42% 0.9s\u001b[0K\u001b[1G93.7 MiB [] 43% 0.9s\u001b[0K\u001b[1G93.7 MiB [] 44% 0.9s\u001b[0K\u001b[1G93.7 MiB [] 45% 0.8s\u001b[0K\u001b[1G93.7 MiB [] 47% 0.8s\u001b[0K\u001b[1G93.7 MiB [] 49% 0.8s\u001b[0K\u001b[1G93.7 MiB [] 50% 0.8s\u001b[0K\u001b[1G93.7 MiB [] 51% 0.8s\u001b[0K\u001b[1G93.7 MiB [] 52% 0.7s\u001b[0K\u001b[1G93.7 MiB [] 54% 0.7s\u001b[0K\u001b[1G93.7 MiB [] 55% 0.7s\u001b[0K\u001b[1G93.7 MiB [] 57% 0.7s\u001b[0K\u001b[1G93.7 MiB [] 57% 0.6s\u001b[0K\u001b[1G93.7 MiB [] 59% 0.6s\u001b[0K\u001b[1G93.7 MiB [] 60% 0.6s\u001b[0K\u001b[1G93.7 MiB [] 62% 0.6s\u001b[0K\u001b[1G93.7 MiB [] 63% 0.6s\u001b[0K\u001b[1G93.7 MiB [] 64% 0.5s\u001b[0K\u001b[1G93.7 MiB [] 65% 0.5s\u001b[0K\u001b[1G93.7 MiB [] 66% 0.5s\u001b[0K\u001b[1G93.7 MiB [] 67% 0.5s\u001b[0K\u001b[1G93.7 MiB [] 69% 0.5s\u001b[0K\u001b[1G93.7 MiB [] 71% 0.4s\u001b[0K\u001b[1G93.7 MiB [] 73% 0.4s\u001b[0K\u001b[1G93.7 MiB [] 74% 0.4s\u001b[0K\u001b[1G93.7 MiB [] 75% 0.3s\u001b[0K\u001b[1G93.7 MiB [] 77% 0.3s\u001b[0K\u001b[1G93.7 MiB [] 78% 0.3s\u001b[0K\u001b[1G93.7 MiB [] 80% 0.3s\u001b[0K\u001b[1G93.7 MiB [] 82% 0.3s\u001b[0K\u001b[1G93.7 MiB [] 83% 0.2s\u001b[0K\u001b[1G93.7 MiB [] 85% 0.2s\u001b[0K\u001b[1G93.7 MiB [] 86% 0.2s\u001b[0K\u001b[1G93.7 MiB [] 87% 0.2s\u001b[0K\u001b[1G93.7 MiB [] 88% 0.2s\u001b[0K\u001b[1G93.7 MiB [] 89% 0.2s\u001b[0K\u001b[1G93.7 MiB [] 89% 0.1s\u001b[0K\u001b[1G93.7 MiB [] 90% 0.1s\u001b[0K\u001b[1G93.7 MiB [] 91% 0.1s\u001b[0K\u001b[1G93.7 MiB [] 92% 0.1s\u001b[0K\u001b[1G93.7 MiB [] 93% 0.1s\u001b[0K\u001b[1G93.7 MiB [] 94% 0.1s\u001b[0K\u001b[1G93.7 MiB [] 95% 0.1s\u001b[0K\u001b[1G93.7 MiB [] 97% 0.0s\u001b[0K\u001b[1G93.7 MiB [] 98% 0.0s\u001b[0K\u001b[1G93.7 MiB [] 99% 0.0s\u001b[0K\u001b[1G93.7 MiB [] 100% 0.0s\u001b[0K\n",
            "Webkit 18.5 (playwright build v2182) downloaded to /root/.cache/ms-playwright/webkit-2182\n",
            "Downloading FFMPEG playwright build v1011\u001b[2m from https://cdn.playwright.dev/dbazure/download/playwright/builds/ffmpeg/1011/ffmpeg-linux.zip\u001b[22m\n",
            "\u001b[1G2.3 MiB [] 0% 0.0s\u001b[0K\u001b[1G2.3 MiB [] 18% 0.1s\u001b[0K\u001b[1G2.3 MiB [] 41% 0.0s\u001b[0K\u001b[1G2.3 MiB [] 66% 0.0s\u001b[0K\u001b[1G2.3 MiB [] 100% 0.0s\u001b[0K\n",
            "FFMPEG playwright build v1011 downloaded to /root/.cache/ms-playwright/ffmpeg-1011\n",
            "Playwright Host validation warning: \n",
            "╔══════════════════════════════════════════════════════╗\n",
            "║ Host system is missing dependencies to run browsers. ║\n",
            "║ Missing libraries:                                   ║\n",
            "║     libwoff2dec.so.1.0.2                             ║\n",
            "║     libgstgl-1.0.so.0                                ║\n",
            "║     libgstcodecparsers-1.0.so.0                      ║\n",
            "║     libavif.so.13                                    ║\n",
            "║     libharfbuzz-icu.so.0                             ║\n",
            "║     libenchant-2.so.2                                ║\n",
            "║     libsecret-1.so.0                                 ║\n",
            "║     libhyphen.so.0                                   ║\n",
            "║     libmanette-0.2.so.0                              ║\n",
            "╚══════════════════════════════════════════════════════╝\n",
            "    at validateDependenciesLinux (/usr/local/lib/python3.11/dist-packages/playwright/driver/package/lib/server/registry/dependencies.js:269:9)\n",
            "\u001b[90m    at process.processTicksAndRejections (node:internal/process/task_queues:105:5)\u001b[39m\n",
            "    at async Registry._validateHostRequirements (/usr/local/lib/python3.11/dist-packages/playwright/driver/package/lib/server/registry/index.js:927:14)\n",
            "    at async Registry._validateHostRequirementsForExecutableIfNeeded (/usr/local/lib/python3.11/dist-packages/playwright/driver/package/lib/server/registry/index.js:1049:7)\n",
            "    at async Registry.validateHostRequirementsForExecutablesIfNeeded (/usr/local/lib/python3.11/dist-packages/playwright/driver/package/lib/server/registry/index.js:1038:7)\n",
            "    at async t.<anonymous> (/usr/local/lib/python3.11/dist-packages/playwright/driver/package/lib/cli/program.js:217:7)\n"
          ]
        }
      ]
    },
    {
      "cell_type": "code",
      "source": [
        "import asyncio\n",
        "from playwright.async_api import async_playwright\n",
        "import pandas as pd\n",
        "\n",
        "async def scrape_museums(max_pages=100):\n",
        "    museums = []\n",
        "\n",
        "    async with async_playwright() as p:\n",
        "        browser = await p.chromium.launch(headless=True)\n",
        "        context = await browser.new_context()\n",
        "        page = await context.new_page()\n",
        "\n",
        "        for page_num in range(1, max_pages + 1):\n",
        "            url = f\"https://museums.ca/site/aboutthecma/services/canadianmuseumdirectory?page={page_num}\"\n",
        "            print(f\"Scraping page {page_num}...\")\n",
        "            await page.goto(url, timeout=60000)\n",
        "\n",
        "            try:\n",
        "                await page.wait_for_selector(\"#rosterRecords .row\", timeout=10000)\n",
        "            except:\n",
        "                print(\"❌ No more entries or timeout.\")\n",
        "                break\n",
        "\n",
        "            entries = await page.query_selector_all(\"#rosterRecords .row\")\n",
        "            if not entries:\n",
        "                print(\"No entries found on this page. Stopping.\")\n",
        "                break\n",
        "\n",
        "            for entry in entries:\n",
        "                name = await entry.inner_text()\n",
        "                name = name.strip().split('\\n')[0]\n",
        "\n",
        "                text = await entry.inner_text()\n",
        "                website = \"\"\n",
        "                if \"http\" in text:\n",
        "                    for word in text.split():\n",
        "                        if \"http\" in word:\n",
        "                            website = word.strip()\n",
        "                            break\n",
        "\n",
        "                museums.append({\n",
        "                    \"Name\": name,\n",
        "                    \"Website\": website,\n",
        "                    \"RawText\": text\n",
        "                })\n",
        "\n",
        "        await browser.close()\n",
        "\n",
        "    return museums\n",
        "\n",
        "# To run in Jupyter or Colab:\n",
        "import nest_asyncio\n",
        "nest_asyncio.apply()\n",
        "\n",
        "data = asyncio.run(scrape_museums(max_pages=100))\n",
        "\n",
        "df = pd.DataFrame(data)\n",
        "df.to_csv(\"canadian_museums_100pages.csv\", index=False)\n",
        "print(f\"✅ Scraped {len(df)} records. Saved to 'canadian_museums_100pages.csv'\")\n"
      ],
      "metadata": {
        "colab": {
          "base_uri": "https://localhost:8080/"
        },
        "id": "2016XjB_sKRK",
        "outputId": "885ae081-7741-432b-bcbd-43533c95b55d"
      },
      "execution_count": 6,
      "outputs": [
        {
          "output_type": "stream",
          "name": "stdout",
          "text": [
            "Scraping page 1...\n",
            "Scraping page 2...\n",
            "Scraping page 3...\n",
            "Scraping page 4...\n",
            "Scraping page 5...\n",
            "Scraping page 6...\n",
            "Scraping page 7...\n",
            "Scraping page 8...\n",
            "Scraping page 9...\n",
            "Scraping page 10...\n",
            "Scraping page 11...\n",
            "Scraping page 12...\n",
            "Scraping page 13...\n",
            "Scraping page 14...\n",
            "Scraping page 15...\n",
            "Scraping page 16...\n",
            "Scraping page 17...\n",
            "Scraping page 18...\n",
            "Scraping page 19...\n",
            "Scraping page 20...\n",
            "Scraping page 21...\n",
            "Scraping page 22...\n",
            "Scraping page 23...\n",
            "Scraping page 24...\n",
            "Scraping page 25...\n",
            "Scraping page 26...\n",
            "Scraping page 27...\n",
            "Scraping page 28...\n",
            "Scraping page 29...\n",
            "Scraping page 30...\n",
            "Scraping page 31...\n",
            "Scraping page 32...\n",
            "Scraping page 33...\n",
            "Scraping page 34...\n",
            "Scraping page 35...\n",
            "Scraping page 36...\n",
            "Scraping page 37...\n",
            "Scraping page 38...\n",
            "Scraping page 39...\n",
            "Scraping page 40...\n",
            "Scraping page 41...\n",
            "Scraping page 42...\n",
            "Scraping page 43...\n",
            "Scraping page 44...\n",
            "Scraping page 45...\n",
            "Scraping page 46...\n",
            "Scraping page 47...\n",
            "Scraping page 48...\n",
            "Scraping page 49...\n",
            "Scraping page 50...\n",
            "Scraping page 51...\n",
            "Scraping page 52...\n",
            "Scraping page 53...\n",
            "Scraping page 54...\n",
            "Scraping page 55...\n",
            "Scraping page 56...\n",
            "Scraping page 57...\n",
            "Scraping page 58...\n",
            "Scraping page 59...\n",
            "Scraping page 60...\n",
            "Scraping page 61...\n",
            "Scraping page 62...\n",
            "Scraping page 63...\n",
            "Scraping page 64...\n",
            "Scraping page 65...\n",
            "Scraping page 66...\n",
            "Scraping page 67...\n",
            "Scraping page 68...\n",
            "Scraping page 69...\n",
            "Scraping page 70...\n",
            "Scraping page 71...\n",
            "Scraping page 72...\n",
            "Scraping page 73...\n",
            "Scraping page 74...\n",
            "Scraping page 75...\n",
            "Scraping page 76...\n",
            "Scraping page 77...\n",
            "Scraping page 78...\n",
            "Scraping page 79...\n",
            "Scraping page 80...\n",
            "Scraping page 81...\n",
            "Scraping page 82...\n",
            "Scraping page 83...\n",
            "Scraping page 84...\n",
            "Scraping page 85...\n",
            "Scraping page 86...\n",
            "Scraping page 87...\n",
            "Scraping page 88...\n",
            "Scraping page 89...\n",
            "Scraping page 90...\n",
            "Scraping page 91...\n",
            "Scraping page 92...\n",
            "Scraping page 93...\n",
            "Scraping page 94...\n",
            "Scraping page 95...\n",
            "Scraping page 96...\n",
            "Scraping page 97...\n",
            "Scraping page 98...\n",
            "Scraping page 99...\n",
            "Scraping page 100...\n",
            "✅ Scraped 1100 records. Saved to 'canadian_museums_100pages.csv'\n"
          ]
        }
      ]
    },
    {
      "cell_type": "code",
      "source": [
        "from google.colab import files\n",
        "files.download('canadian_museums_100pages.csv')\n"
      ],
      "metadata": {
        "colab": {
          "base_uri": "https://localhost:8080/",
          "height": 17
        },
        "id": "t4mdglbDsP8q",
        "outputId": "70caad31-6e8f-48dd-e070-5d0d0aa6dbdb"
      },
      "execution_count": 7,
      "outputs": [
        {
          "output_type": "display_data",
          "data": {
            "text/plain": [
              "<IPython.core.display.Javascript object>"
            ],
            "application/javascript": [
              "\n",
              "    async function download(id, filename, size) {\n",
              "      if (!google.colab.kernel.accessAllowed) {\n",
              "        return;\n",
              "      }\n",
              "      const div = document.createElement('div');\n",
              "      const label = document.createElement('label');\n",
              "      label.textContent = `Downloading \"${filename}\": `;\n",
              "      div.appendChild(label);\n",
              "      const progress = document.createElement('progress');\n",
              "      progress.max = size;\n",
              "      div.appendChild(progress);\n",
              "      document.body.appendChild(div);\n",
              "\n",
              "      const buffers = [];\n",
              "      let downloaded = 0;\n",
              "\n",
              "      const channel = await google.colab.kernel.comms.open(id);\n",
              "      // Send a message to notify the kernel that we're ready.\n",
              "      channel.send({})\n",
              "\n",
              "      for await (const message of channel.messages) {\n",
              "        // Send a message to notify the kernel that we're ready.\n",
              "        channel.send({})\n",
              "        if (message.buffers) {\n",
              "          for (const buffer of message.buffers) {\n",
              "            buffers.push(buffer);\n",
              "            downloaded += buffer.byteLength;\n",
              "            progress.value = downloaded;\n",
              "          }\n",
              "        }\n",
              "      }\n",
              "      const blob = new Blob(buffers, {type: 'application/binary'});\n",
              "      const a = document.createElement('a');\n",
              "      a.href = window.URL.createObjectURL(blob);\n",
              "      a.download = filename;\n",
              "      div.appendChild(a);\n",
              "      a.click();\n",
              "      div.remove();\n",
              "    }\n",
              "  "
            ]
          },
          "metadata": {}
        },
        {
          "output_type": "display_data",
          "data": {
            "text/plain": [
              "<IPython.core.display.Javascript object>"
            ],
            "application/javascript": [
              "download(\"download_51a43b4c-e0b1-46f4-8df3-494bfed7dbff\", \"canadian_museums_100pages.csv\", 549672)"
            ]
          },
          "metadata": {}
        }
      ]
    }
  ]
}